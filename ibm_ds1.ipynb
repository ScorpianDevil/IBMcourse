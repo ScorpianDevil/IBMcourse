{
 "cells": [
  {
   "cell_type": "markdown",
   "id": "8119e9f8",
   "metadata": {},
   "source": [
    "# Data Science Tools and Ecosystem"
   ]
  },
  {
   "cell_type": "markdown",
   "id": "215338ca",
   "metadata": {},
   "source": [
    "In this notebook, Data Science Tools and Ecosystem are summarised."
   ]
  },
  {
   "cell_type": "markdown",
   "id": "53c64d64",
   "metadata": {},
   "source": [
    "Some of the popular languauges that Data Scientists use are:\n",
    "1. Python\n",
    "2. R\n",
    "3. C++"
   ]
  },
  {
   "cell_type": "markdown",
   "id": "9aaf735a",
   "metadata": {},
   "source": [
    "## Objectives \n",
    "* Gain experience in using jupyter notebook\n",
    "* Subtly revising major tools and terms learnt\n",
    "* Getting ready for further practical implementation"
   ]
  },
  {
   "cell_type": "markdown",
   "id": "e128b00a",
   "metadata": {},
   "source": [
    "Some commonly used libraries used by Data Scientists include:\n",
    "1. Numpy\n",
    "2. Pandas\n",
    "3. Matplotlib\n",
    "4. Seaborn\n",
    "5. Scipy\n"
   ]
  },
  {
   "cell_type": "markdown",
   "id": "4aa2c00b",
   "metadata": {},
   "source": [
    "|Data Sciencce Tools|\n",
    "|-------------------|\n",
    "|Jupyter Notebook   |\n",
    "|RStudio            |\n",
    "|Excel              |"
   ]
  },
  {
   "cell_type": "markdown",
   "id": "369b7ee3",
   "metadata": {},
   "source": [
    "### Velow are a few examples of evaluating arithmetic expressions in python."
   ]
  },
  {
   "cell_type": "code",
   "execution_count": 2,
   "id": "65d89432",
   "metadata": {},
   "outputs": [
    {
     "data": {
      "text/plain": [
       "17"
      ]
     },
     "execution_count": 2,
     "metadata": {},
     "output_type": "execute_result"
    }
   ],
   "source": [
    "#this is a simple arithmetic expression to multiply then add integers.\n",
    "(3 * 4) + 5\n"
   ]
  },
  {
   "cell_type": "code",
   "execution_count": 3,
   "id": "eae31780",
   "metadata": {},
   "outputs": [
    {
     "data": {
      "text/plain": [
       "3.3333333333333335"
      ]
     },
     "execution_count": 3,
     "metadata": {},
     "output_type": "execute_result"
    }
   ],
   "source": [
    "#This will convert 200 minutes into hours by dividing by 60.\n",
    "\n",
    "200/60"
   ]
  },
  {
   "cell_type": "markdown",
   "id": "ffda5a61",
   "metadata": {},
   "source": [
    "## Author\n",
    "Srijan"
   ]
  },
  {
   "cell_type": "code",
   "execution_count": null,
   "id": "9fa86457",
   "metadata": {},
   "outputs": [],
   "source": []
  }
 ],
 "metadata": {
  "kernelspec": {
   "display_name": "Python 3 (ipykernel)",
   "language": "python",
   "name": "python3"
  },
  "language_info": {
   "codemirror_mode": {
    "name": "ipython",
    "version": 3
   },
   "file_extension": ".py",
   "mimetype": "text/x-python",
   "name": "python",
   "nbconvert_exporter": "python",
   "pygments_lexer": "ipython3",
   "version": "3.11.5"
  }
 },
 "nbformat": 4,
 "nbformat_minor": 5
}
